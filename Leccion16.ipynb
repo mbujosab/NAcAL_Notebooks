{
 "cells": [
  {
   "cell_type": "code",
   "execution_count": 1,
   "metadata": {},
   "outputs": [
    {
     "name": "stdout",
     "output_type": "stream",
     "text": [
      "Defaulting to user installation because normal site-packages is not writeable\n",
      "Requirement already satisfied: nacal in /home/marcos/.local/lib/python3.8/site-packages (0.1.0)\n",
      "Requirement already satisfied: sympy>=1.1.0 in /usr/lib/python3/dist-packages (from nacal) (1.6.1)\n",
      "Note: you may need to restart the kernel to use updated packages.\n"
     ]
    }
   ],
   "source": [
    "pip install nacal"
   ]
  },
  {
   "cell_type": "code",
   "execution_count": 2,
   "metadata": {
    "autoscroll": false,
    "ein.hycell": false,
    "ein.tags": "worksheet-0",
    "slideshow": {
     "slide_type": "-"
    }
   },
   "outputs": [],
   "source": [
    "from IPython.display import YouTubeVideo\n",
    "from nacal import *\n",
    "from IPython.display import display, Math"
   ]
  },
  {
   "cell_type": "markdown",
   "metadata": {
    "ein.tags": "worksheet-0",
    "slideshow": {
     "slide_type": "-"
    }
   },
   "source": [
    "$\n",
    "\\renewcommand{\\R}[1][{}]{{\\mathbb{R}}^{#1}}\n",
    "\\renewcommand{\\Z}[1][{}]{{\\mathbb{Z}}^{#1}}\n",
    "%%%%%%%%%%%%%%%%%%%%%%%%%%%%%%%%%%%%%%%%%%%%%%%%%%%%%%%%%%%%%%%%%%%%%%%%%%%%\n",
    "\\renewcommand{\\getitemR}[1]{\\getItem{#1}}\n",
    "\\renewcommand{\\getItem}{\\pmb{\\mid}}\n",
    "\\renewcommand{\\elemR}[2]{{#1}^{\\phantom{\\T}}_{\\getitemR{#2}}} \n",
    "\\renewcommand{\\elemRP}[2]{{\\big(#1\\big)}^{\\phantom{\\T}}_{\\getitemR{#2}}} \n",
    "\\renewcommand{\\elemRPE}[2]{\\big({#1}^{\\phantom{\\T}}_{\\getitemR{#2}}\\big)}\n",
    "%%%%%%%%%%%%%%%%%%%%%%%%%%%%%%%%%%%%%%%%%%%%%%%%%%%%%%%%%%%%%%%%%%%%%%%%%%%%\n",
    "\\renewcommand{\\Vect}[2][{}]{{\\boldsymbol{#2}}_{#1}}\n",
    "\\renewcommand{\\eleVR}[2]  {\\elemR  {\\Vect{#1}}{#2}}\t % con subindices\n",
    "\\renewcommand{\\eleVRP}[2] {\\elemRP {\\Vect{#1}}{#2}}      % con subindices y paréntesis interior\n",
    "\\renewcommand{\\eleVRPE}[2]{\\elemRPE{\\Vect{#1}}{#2}}      % con subindices y paréntesis exterior\n",
    "%%%%%%%%%%%%%%%%%%%%%%%%%%%%%%%%%%%%%%%%%%%%%%%%%%%%%%%%%%%%%%%%%%%%%%%%%%%%\n",
    "\\renewcommand{\\VectC}[2][{}]  {\\elemR  {\\Mat{#2}}{#1}}   % con subindices\n",
    "\\renewcommand{\\VectCP}[2][{}] {\\elemRP {\\Mat{#2}}{#1}}   % con subindices y paréntesis\n",
    "\\renewcommand{\\VectCPE}[2][{}]{\\elemRPE{\\Mat{#2}}{#1}}   % con subindices y paréntesis exterior\n",
    "%%%%%%%%%%%%%%%%%%%%%%%%%%%%%%%%%%%%%%%%%%%%%%%%%%%%%%%%%%%%%%%%%%%%%%%%%%%%\n",
    "\\renewcommand{\\mat}[1]{\\mathbf{#1}}\n",
    "\\renewcommand{\\Mat} [2][{}]{{\\mat{#2}}_{#1}} \n",
    "\\renewcommand{\\T}{\\intercal}\n",
    "\\renewcommand{\\MatT}[2][{}]{{\\mat{#2}}^{\\T}_{#1}}\n",
    "\\renewcommand{\\VectC}[2][{}]    {\\elemR  {\\Mat{#2}}{#1}}   % con subindices\n",
    "\\renewcommand{\\VectCP}[2][{}]   {\\elemRP  {\\Mat{#2}}{#1}}   % con subindices y paréntesis\n",
    "\\renewcommand{\\VectCPE}[2][{}]  {\\elemRPE  {\\Mat{#2}}{#1}}   % con subindices y paréntesis exterior\n",
    "\\renewcommand{\\VectCC}[2][{}]   {\\elemRR {\\Mat{#2}}{#1}}   % con ()\n",
    "\\renewcommand{\\VectCCC}[2][{}]  {\\elemRRR{\\Mat{#2}}{#1}}   % con texto \"col\"\n",
    "%SELECCIÓNA de FILAS y COlUMNAS DE UNA MATRIZ TRANSPUESTA PARA GENERAR UN VECTOR DE Rn\n",
    "\\renewcommand{\\VectTC}[2][{}]   {\\elemR{\\MatT{#2}\\!}{#1}}  % con subindices\n",
    "\\renewcommand{\\VectTCC}[2][{}]  {\\elemRR{ \\MatT{#2}}{#1}}  % con ()\n",
    "\\renewcommand{\\VectTCCC}[2][{}] {\\elemRRR{\\MatT{#2}}{#1}}  % con texto \"col\"\n",
    "$"
   ]
  },
  {
   "cell_type": "markdown",
   "metadata": {
    "ein.tags": "worksheet-0",
    "slideshow": {
     "slide_type": "-"
    }
   },
   "source": [
    "${\\huge\\text{Jupyter notebook de la Lección 16}}$"
   ]
  },
  {
   "cell_type": "markdown",
   "metadata": {
    "ein.tags": "worksheet-0",
    "slideshow": {
     "slide_type": "-"
    }
   },
   "source": [
    "**Índice de contenidos de este notebook** (Es necesario ejecutar completamente este notebook para que aparezca el índice)\n",
    "<div id=\"toc\"></div>"
   ]
  },
  {
   "cell_type": "markdown",
   "metadata": {
    "ein.tags": "worksheet-0",
    "slideshow": {
     "slide_type": "-"
    }
   },
   "source": [
    "# Calculo por eliminación Gaussiana"
   ]
  },
  {
   "cell_type": "code",
   "execution_count": 3,
   "metadata": {},
   "outputs": [
    {
     "data": {
      "image/jpeg": "[encoded data removed]",
      "text/html": [
       "\n",
       "        <iframe\n",
       "            width=\"400\"\n",
       "            height=\"300\"\n",
       "            src=\"https://www.youtube.com/embed/kPQKkL5mQe4\"\n",
       "            frameborder=\"0\"\n",
       "            allowfullscreen\n",
       "        ></iframe>\n",
       "        "
      ],
      "text/plain": [
       "<IPython.lib.display.YouTubeVideo at 0x7fac78299040>"
      ]
     },
     "execution_count": 3,
     "metadata": {},
     "output_type": "execute_result"
    }
   ],
   "source": [
    "YouTubeVideo('kPQKkL5mQe4')"
   ]
  },
  {
   "cell_type": "code",
   "execution_count": 4,
   "metadata": {},
   "outputs": [
    {
     "data": {
      "text/html": [
       "<p style=\"text-align:center;\">$\\begin{bmatrix}1&5  \\\\2&3\\end{bmatrix}$</p>"
      ],
      "text/plain": [
       "Matrix([Vector([1, 2]), Vector([5, 3])])"
      ]
     },
     "execution_count": 4,
     "metadata": {},
     "output_type": "execute_result"
    }
   ],
   "source": [
    "A = Matrix( [[1,5], [2,3]])\n",
    "A"
   ]
  },
  {
   "cell_type": "code",
   "execution_count": 5,
   "metadata": {},
   "outputs": [
    {
     "data": {
      "text/latex": [
       "$\\displaystyle \\left[\\begin{array}{cc|c}1&5&0\\\\2&3&0\\\\ \\hline 0&0&1\\\\\\end{array}\\right]\\xrightarrow[\\underset{\\begin{subarray}{c} \\left[\\left(1\\right)\\mathbf{3}\\right]\\end{subarray}}{\\mathbf{\\tau}}]{\\underset{\\begin{subarray}{c} \\left[\\left(-5\\right)\\mathbf{1}+\\mathbf{2} \\right]\\end{subarray}}{\\mathbf{\\tau}}}\\left[\\begin{array}{cc|c}1&0&0\\\\2&-7&0\\\\ \\hline 0&0&1\\\\\\end{array}\\right]$"
      ],
      "text/plain": [
       "<IPython.core.display.Math object>"
      ]
     },
     "metadata": {},
     "output_type": "display_data"
    },
    {
     "data": {
      "text/html": [
       "<p style=\"text-align:center;\">$\\text{Valor del determinante: }\\;-7$</p>"
      ],
      "text/plain": [
       "Valor del determinante:  -7"
      ]
     },
     "execution_count": 5,
     "metadata": {},
     "output_type": "execute_result"
    }
   ],
   "source": [
    "Determinante(A,1)"
   ]
  },
  {
   "cell_type": "code",
   "execution_count": 6,
   "metadata": {},
   "outputs": [
    {
     "data": {
      "text/html": [
       "<p style=\"text-align:center;\">$\\begin{bmatrix}0&2&1  \\\\9&6&3  \\\\0&1&1\\end{bmatrix}$</p>"
      ],
      "text/plain": [
       "Matrix([Vector([0, 9, 0]), Vector([2, 6, 1]), Vector([1, 3, 1])])"
      ]
     },
     "execution_count": 6,
     "metadata": {},
     "output_type": "execute_result"
    }
   ],
   "source": [
    "A = Matrix( [[0,2,1], [9,6,3], [0,1,1]])\n",
    "A"
   ]
  },
  {
   "cell_type": "code",
   "execution_count": 7,
   "metadata": {},
   "outputs": [
    {
     "data": {
      "text/latex": [
       "$\\displaystyle \\left[\\begin{array}{ccc|c}0&2&1&0\\\\9&6&3&0\\\\0&1&1&0\\\\ \\hline 0&0&0&1\\\\\\end{array}\\right]\\xrightarrow[\\underset{\\begin{subarray}{c} \\left[\\left(\\frac{1}{2}\\right)\\mathbf{4}\\right]\\end{subarray}}{\\mathbf{\\tau}}]{\\underset{\\begin{subarray}{c} \\left[\\left(2\\right)\\mathbf{3}\\right]\\\\\\left[\\left(-1\\right)\\mathbf{2}+\\mathbf{3} \\right]\\end{subarray}}{\\mathbf{\\tau}}}\\left[\\begin{array}{ccc|c}0&2&0&0\\\\9&6&0&0\\\\0&1&1&0\\\\ \\hline 0&0&0&\\frac{1}{2}\\\\\\end{array}\\right]\\xrightarrow[\\underset{\\begin{subarray}{c} \\left[\\left(\\frac{1}{3}\\right)\\mathbf{4}\\right]\\end{subarray}}{\\mathbf{\\tau}}]{\\underset{\\begin{subarray}{c} \\left[\\left(3\\right)\\mathbf{2}\\right]\\\\\\left[\\left(-2\\right)\\mathbf{1}+\\mathbf{2} \\right]\\end{subarray}}{\\mathbf{\\tau}}}\\left[\\begin{array}{ccc|c}0&6&0&0\\\\9&0&0&0\\\\0&3&1&0\\\\ \\hline 0&0&0&\\frac{1}{6}\\\\\\end{array}\\right]\\xrightarrow[\\underset{\\begin{subarray}{c} \\left[\\left(-1\\right)\\mathbf{4}\\right]\\end{subarray}}{\\mathbf{\\tau}}]{\\underset{\\begin{subarray}{c} \\left[\\mathbf{1}\\rightleftharpoons\\mathbf{2}\\right]\\end{subarray}}{\\mathbf{\\tau}}}\\left[\\begin{array}{ccc|c}6&0&0&0\\\\0&9&0&0\\\\3&0&1&0\\\\ \\hline 0&0&0&- \\frac{1}{6}\\\\\\end{array}\\right]$"
      ],
      "text/plain": [
       "<IPython.core.display.Math object>"
      ]
     },
     "metadata": {},
     "output_type": "display_data"
    },
    {
     "data": {
      "text/html": [
       "<p style=\"text-align:center;\">$\\text{Valor del determinante: }\\;-9$</p>"
      ],
      "text/plain": [
       "Valor del determinante:  -9"
      ]
     },
     "execution_count": 7,
     "metadata": {},
     "output_type": "execute_result"
    }
   ],
   "source": [
    "Determinante(A,1)"
   ]
  },
  {
   "cell_type": "code",
   "execution_count": 8,
   "metadata": {},
   "outputs": [],
   "source": [
    "a, b, c, d, e, f, g, h, i = sympy.symbols('a b c d e f g h i')"
   ]
  },
  {
   "cell_type": "markdown",
   "metadata": {},
   "source": [
    "Asumiendo que $a\\ne0$ "
   ]
  },
  {
   "cell_type": "code",
   "execution_count": 9,
   "metadata": {},
   "outputs": [
    {
     "data": {
      "text/latex": [
       "$\\displaystyle \\left[\\begin{array}{cc|c}a&b&0\\\\c&d&0\\\\ \\hline 0&0&1\\\\\\end{array}\\right]\\xrightarrow[\\underset{\\begin{subarray}{c} \\left[\\left(1\\right)\\mathbf{3}\\right]\\end{subarray}}{\\mathbf{\\tau}}]{\\underset{\\begin{subarray}{c} \\left[\\left(- \\frac{b}{a}\\right)\\mathbf{1}+\\mathbf{2} \\right]\\end{subarray}}{\\mathbf{\\tau}}}\\left[\\begin{array}{cc|c}a&0&0\\\\c&d - \\frac{b c}{a}&0\\\\ \\hline 0&0&1\\\\\\end{array}\\right]$"
      ],
      "text/plain": [
       "<IPython.core.display.Math object>"
      ]
     },
     "metadata": {},
     "output_type": "display_data"
    },
    {
     "data": {
      "text/html": [
       "<p style=\"text-align:center;\">$\\text{Valor del determinante: }\\;a d - b c$</p>"
      ],
      "text/plain": [
       "Valor del determinante:  a*d - b*c"
      ]
     },
     "execution_count": 9,
     "metadata": {},
     "output_type": "execute_result"
    }
   ],
   "source": [
    "D = Matrix([[a,b],[c,d]])\n",
    "Determinante(D,1)"
   ]
  },
  {
   "cell_type": "code",
   "execution_count": 10,
   "metadata": {},
   "outputs": [],
   "source": [
    "A = Matrix([[a,b,c],[d,e,f],[g,h,i]])"
   ]
  },
  {
   "cell_type": "markdown",
   "metadata": {},
   "source": [
    "Asumiendo que $\\;a\\ne0,\\;$ y que $\\;(ae-bd)\\ne0$:"
   ]
  },
  {
   "cell_type": "code",
   "execution_count": 11,
   "metadata": {},
   "outputs": [
    {
     "data": {
      "text/latex": [
       "$\\displaystyle \\left[\\begin{array}{ccc|c}a&b&c&0\\\\d&e&f&0\\\\g&h&i&0\\\\ \\hline 0&0&0&1\\\\\\end{array}\\right]\\xrightarrow[\\underset{\\begin{subarray}{c} \\left[\\left(1\\right)\\mathbf{4}\\right]\\end{subarray}}{\\mathbf{\\tau}}]{\\underset{\\begin{subarray}{c} \\left[\\left(- \\frac{b}{a}\\right)\\mathbf{1}+\\mathbf{2} \\right]\\\\\\left[\\left(- \\frac{c}{a}\\right)\\mathbf{1}+\\mathbf{3} \\right]\\end{subarray}}{\\mathbf{\\tau}}}\\left[\\begin{array}{ccc|c}a&0&0&0\\\\d&e - \\frac{b d}{a}&f - \\frac{c d}{a}&0\\\\g&h - \\frac{b g}{a}&i - \\frac{c g}{a}&0\\\\ \\hline 0&0&0&1\\\\\\end{array}\\right]\\xrightarrow[\\underset{\\begin{subarray}{c} \\left[\\left(1\\right)\\mathbf{4}\\right]\\end{subarray}}{\\mathbf{\\tau}}]{\\underset{\\begin{subarray}{c} \\left[\\left(\\frac{- a f + c d}{a e - b d}\\right)\\mathbf{2}+\\mathbf{3} \\right]\\end{subarray}}{\\mathbf{\\tau}}}\\left[\\begin{array}{ccc|c}a&0&0&0\\\\d&e - \\frac{b d}{a}&0&0\\\\g&h - \\frac{b g}{a}&\\frac{a e i - a f h - b d i + b f g + c d h - c e g}{a e - b d}&0\\\\ \\hline 0&0&0&1\\\\\\end{array}\\right]$"
      ],
      "text/plain": [
       "<IPython.core.display.Math object>"
      ]
     },
     "metadata": {},
     "output_type": "display_data"
    },
    {
     "data": {
      "text/html": [
       "<p style=\"text-align:center;\">$\\text{Valor del determinante: }\\;a e i - a f h - b d i + b f g + c d h - c e g$</p>"
      ],
      "text/plain": [
       "Valor del determinante:  a*e*i - a*f*h - b*d*i + b*f*g + c*d*h - c*e*g"
      ]
     },
     "execution_count": 11,
     "metadata": {},
     "output_type": "execute_result"
    }
   ],
   "source": [
    "Determinante(A,1)"
   ]
  },
  {
   "cell_type": "markdown",
   "metadata": {
    "ein.tags": "worksheet-0",
    "slideshow": {
     "slide_type": "-"
    }
   },
   "source": [
    "\n",
    "---- FIN DE LA LECCIÓN -----\n",
    "\n",
    "\n",
    "\n",
    "Lo que sigue es sólo para crear un índice de contenidos de este notebook (y se muestra al principio de la página)"
   ]
  },
  {
   "cell_type": "code",
   "execution_count": 12,
   "metadata": {
    "autoscroll": false,
    "ein.hycell": false,
    "ein.tags": "worksheet-0",
    "slideshow": {
     "slide_type": "-"
    }
   },
   "outputs": [
    {
     "data": {
      "application/javascript": [
       "$.getScript('https://kmahelona.github.io/ipython_notebook_goodies/ipython_notebook_toc.js')\n",
       "$.getScript('https://kmahelona.github.io/ipython_notebook_goodies/ipython_notebook_toc.js')\n"
      ],
      "text/plain": [
       "<IPython.core.display.Javascript object>"
      ]
     },
     "metadata": {},
     "output_type": "display_data"
    }
   ],
   "source": [
    "%%javascript\n",
    "$.getScript('https://kmahelona.github.io/ipython_notebook_goodies/ipython_notebook_toc.js')\n",
    "$.getScript('https://kmahelona.github.io/ipython_notebook_goodies/ipython_notebook_toc.js')"
   ]
  }
 ],
 "metadata": {
  "kernelspec": {
   "display_name": "Python 3",
   "language": "python",
   "name": "python3"
  },
  "language_info": {
   "codemirror_mode": {
    "name": "ipython",
    "version": 3
   },
   "file_extension": ".py",
   "mimetype": "text/x-python",
   "name": "python",
   "nbconvert_exporter": "python",
   "pygments_lexer": "ipython3",
   "version": "3.8.5"
  },
  "name": "Leccion05.ipynb"
 },
 "nbformat": 4,
 "nbformat_minor": 2
}
