{
 "cells": [
  {
   "cell_type": "code",
   "execution_count": 1,
   "metadata": {},
   "outputs": [
    {
     "name": "stdout",
     "output_type": "stream",
     "text": [
      "Defaulting to user installation because normal site-packages is not writeable\n",
      "Requirement already satisfied: nacal in /home/marcos/.local/lib/python3.8/site-packages (0.1.0)\n",
      "Requirement already satisfied: sympy>=1.1.0 in /usr/lib/python3/dist-packages (from nacal) (1.6.1)\n",
      "Note: you may need to restart the kernel to use updated packages.\n"
     ]
    }
   ],
   "source": [
    "pip install nacal"
   ]
  },
  {
   "cell_type": "code",
   "execution_count": 2,
   "metadata": {
    "autoscroll": false,
    "ein.hycell": false,
    "ein.tags": "worksheet-0",
    "slideshow": {
     "slide_type": "-"
    }
   },
   "outputs": [],
   "source": [
    "from nacal import *"
   ]
  },
  {
   "cell_type": "markdown",
   "metadata": {
    "ein.tags": "worksheet-0",
    "slideshow": {
     "slide_type": "-"
    }
   },
   "source": [
    "$\n",
    "\\renewcommand{\\R}[1][{}]{{\\mathbb{R}}^{#1}}\n",
    "\\renewcommand{\\Z}[1][{}]{{\\mathbb{Z}}^{#1}}\n",
    "%%%%%%%%%%%%%%%%%%%%%%%%%%%%%%%%%%%%%%%%%%%%%%%%%%%%%%%%%%%%%%%%%%%%%%%%%%%%\n",
    "\\renewcommand{\\getitemR}[1]{\\getItem{#1}}\n",
    "\\renewcommand{\\getItem}{\\pmb{\\mid}}\n",
    "\\renewcommand{\\elemR}[2]{{#1}^{\\phantom{\\T}}_{\\getitemR{#2}}} \n",
    "\\renewcommand{\\elemRP}[2]{{\\big(#1\\big)}^{\\phantom{\\T}}_{\\getitemR{#2}}} \n",
    "\\renewcommand{\\elemRPE}[2]{\\big({#1}^{\\phantom{\\T}}_{\\getitemR{#2}}\\big)}\n",
    "%%%%%%%%%%%%%%%%%%%%%%%%%%%%%%%%%%%%%%%%%%%%%%%%%%%%%%%%%%%%%%%%%%%%%%%%%%%%\n",
    "\\renewcommand{\\Vect}[2][{}]{{\\boldsymbol{#2}}_{#1}}\n",
    "\\renewcommand{\\eleVR}[2]  {\\elemR  {\\Vect{#1}}{#2}}\t % con subindices\n",
    "\\renewcommand{\\eleVRP}[2] {\\elemRP {\\Vect{#1}}{#2}}      % con subindices y paréntesis interior\n",
    "\\renewcommand{\\eleVRPE}[2]{\\elemRPE{\\Vect{#1}}{#2}}      % con subindices y paréntesis exterior\n",
    "%%%%%%%%%%%%%%%%%%%%%%%%%%%%%%%%%%%%%%%%%%%%%%%%%%%%%%%%%%%%%%%%%%%%%%%%%%%%\n",
    "\\renewcommand{\\VectC}[2][{}]  {\\elemR  {\\Mat{#2}}{#1}}   % con subindices\n",
    "\\renewcommand{\\VectCP}[2][{}] {\\elemRP {\\Mat{#2}}{#1}}   % con subindices y paréntesis\n",
    "\\renewcommand{\\VectCPE}[2][{}]{\\elemRPE{\\Mat{#2}}{#1}}   % con subindices y paréntesis exterior\n",
    "%%%%%%%%%%%%%%%%%%%%%%%%%%%%%%%%%%%%%%%%%%%%%%%%%%%%%%%%%%%%%%%%%%%%%%%%%%%%\n",
    "\\renewcommand{\\mat}[1]{\\mathbf{#1}}\n",
    "\\renewcommand{\\Mat} [2][{}]{{\\mat{#2}}_{#1}} \n",
    "\\renewcommand{\\T}{\\intercal}\n",
    "\\renewcommand{\\MatT}[2][{}]{{\\mat{#2}}^{\\T}_{#1}}\n",
    "\\renewcommand{\\VectC}[2][{}]    {\\elemR  {\\Mat{#2}}{#1}}   % con subindices\n",
    "\\renewcommand{\\VectCP}[2][{}]   {\\elemRP  {\\Mat{#2}}{#1}}   % con subindices y paréntesis\n",
    "\\renewcommand{\\VectCPE}[2][{}]  {\\elemRPE  {\\Mat{#2}}{#1}}   % con subindices y paréntesis exterior\n",
    "\\renewcommand{\\VectCC}[2][{}]   {\\elemRR {\\Mat{#2}}{#1}}   % con ()\n",
    "\\renewcommand{\\VectCCC}[2][{}]  {\\elemRRR{\\Mat{#2}}{#1}}   % con texto \"col\"\n",
    "%SELECCIÓNA de FILAS y COlUMNAS DE UNA MATRIZ TRANSPUESTA PARA GENERAR UN VECTOR DE Rn\n",
    "\\renewcommand{\\VectTC}[2][{}]   {\\elemR{\\MatT{#2}\\!}{#1}}  % con subindices\n",
    "\\renewcommand{\\VectTCC}[2][{}]  {\\elemRR{ \\MatT{#2}}{#1}}  % con ()\n",
    "\\renewcommand{\\VectTCCC}[2][{}] {\\elemRRR{\\MatT{#2}}{#1}}  % con texto \"col\"\n",
    "$"
   ]
  },
  {
   "cell_type": "markdown",
   "metadata": {
    "ein.tags": "worksheet-0",
    "slideshow": {
     "slide_type": "-"
    }
   },
   "source": [
    "${\\huge\\text{Jupyter notebook de la Lección 18}}$"
   ]
  },
  {
   "cell_type": "markdown",
   "metadata": {
    "ein.tags": "worksheet-0",
    "slideshow": {
     "slide_type": "-"
    }
   },
   "source": [
    "**Índice de contenidos de este notebook** (Es necesario ejecutar completamente este notebook para que aparezca el índice)\n",
    "<div id=\"toc\"></div>"
   ]
  },
  {
   "cell_type": "markdown",
   "metadata": {},
   "source": [
    "# Transformaciones espejo"
   ]
  },
  {
   "cell_type": "code",
   "execution_count": 3,
   "metadata": {},
   "outputs": [
    {
     "data": {
      "text/html": [
       "<p style=\"text-align:center;\">$\\underset{\\begin{subarray}{c} \\left[\\left(3\\right)\\mathbf{2}+\\mathbf{1} \\right]\\\\\\left[\\left(-2\\right)\\mathbf{3}+\\mathbf{2} \\right]\\\\\\left[\\left(7\\right)\\mathbf{1}+\\mathbf{3} \\right]\\\\\\left[\\mathbf{2}\\rightleftharpoons\\mathbf{3}\\right]\\\\\\left[\\left(20\\right)\\mathbf{1}\\right]\\end{subarray}}{\\mathbf{\\tau}}$</p>"
      ],
      "text/plain": [
       "T([(3, 2, 1), (-2, 3, 2), (7, 1, 3), {2, 3}, (20, 1)])"
      ]
     },
     "execution_count": 3,
     "metadata": {},
     "output_type": "execute_result"
    }
   ],
   "source": [
    "Tr = T((3,2,1)) & T((-2,3,2)) & T((7,1,3)) & T({2,3}) & T((20,1))  # Secuencia de transformaciones \n",
    "Tr"
   ]
  },
  {
   "cell_type": "code",
   "execution_count": 4,
   "metadata": {},
   "outputs": [
    {
     "data": {
      "text/html": [
       "<p style=\"text-align:center;\">$\\underset{\\begin{subarray}{c} \\left[\\left(3\\right)\\mathbf{1}+\\mathbf{2} \\right]\\\\\\left[\\left(-2\\right)\\mathbf{2}+\\mathbf{3} \\right]\\\\\\left[\\left(7\\right)\\mathbf{3}+\\mathbf{1} \\right]\\\\\\left[\\mathbf{2}\\rightleftharpoons\\mathbf{3}\\right]\\\\\\left[\\left(20\\right)\\mathbf{1}\\right]\\end{subarray}}{\\mathbf{\\tau}}$</p>"
      ],
      "text/plain": [
       "T([(3, 1, 2), (-2, 2, 3), (7, 3, 1), {2, 3}, (20, 1)])"
      ]
     },
     "execution_count": 4,
     "metadata": {},
     "output_type": "execute_result"
    }
   ],
   "source": [
    "Tr.espejo()                                                        # Trasformación \"espejo\""
   ]
  },
  {
   "cell_type": "code",
   "execution_count": 5,
   "metadata": {},
   "outputs": [
    {
     "data": {
      "text/html": [
       "<p style=\"text-align:center;\">$\\begin{bmatrix}20&7&0  \\\\60&21&1  \\\\0&1&-2\\end{bmatrix}$</p>"
      ],
      "text/plain": [
       "Matrix([Vector([20, 60, 0]), Vector([7, 21, 1]), Vector([0, 1, -2])])"
      ]
     },
     "execution_count": 5,
     "metadata": {},
     "output_type": "execute_result"
    }
   ],
   "source": [
    "A = I(3) & Tr                                                      # Transformación de las columnas de la Identidad\n",
    "A"
   ]
  },
  {
   "cell_type": "code",
   "execution_count": 6,
   "metadata": {},
   "outputs": [
    {
     "data": {
      "text/html": [
       "<p style=\"text-align:center;\">$\\begin{bmatrix}20&7&0  \\\\60&21&1  \\\\0&1&-2\\end{bmatrix}$</p>"
      ],
      "text/plain": [
       "Matrix([Vector([20, 60, 0]), Vector([7, 21, 1]), Vector([0, 1, -2])])"
      ]
     },
     "execution_count": 6,
     "metadata": {},
     "output_type": "execute_result"
    }
   ],
   "source": [
    "Tr.espejo() & I(3)                                  # Transformación espejo sobre las filas de la Identidad"
   ]
  },
  {
   "cell_type": "code",
   "execution_count": 7,
   "metadata": {},
   "outputs": [
    {
     "data": {
      "text/html": [
       "<p style=\"text-align:center;\">$\\begin{bmatrix}1&0&0  \\\\0&1&0  \\\\0&0&1\\end{bmatrix}$</p>"
      ],
      "text/plain": [
       "Matrix([Vector([1, 0, 0]), Vector([0, 1, 0]), Vector([0, 0, 1])])"
      ]
     },
     "execution_count": 7,
     "metadata": {},
     "output_type": "execute_result"
    }
   ],
   "source": [
    "(Tr**-1).espejo() & I(3) & Tr"
   ]
  },
  {
   "cell_type": "code",
   "execution_count": 8,
   "metadata": {},
   "outputs": [],
   "source": [
    "A  = Matrix([[1,1,1],[1,1,1],[1,1,1]])"
   ]
  },
  {
   "cell_type": "code",
   "execution_count": 9,
   "metadata": {},
   "outputs": [
    {
     "data": {
      "text/html": [
       "<p style=\"text-align:center;\">$\\begin{bmatrix}1&5&1  \\\\\\frac{1}{5}&1&\\frac{1}{5}  \\\\1&5&1\\end{bmatrix}$</p>"
      ],
      "text/plain": [
       "Matrix([Vector([1, 1/5, 1]), Vector([5, 1, 5]), Vector([1, 1/5, 1])])"
      ]
     },
     "execution_count": 9,
     "metadata": {},
     "output_type": "execute_result"
    }
   ],
   "source": [
    "Tr = T((5,2))\n",
    "(Tr**-1).espejo() & Matrix(A) & Tr              # No cambia la traza"
   ]
  },
  {
   "cell_type": "code",
   "execution_count": 10,
   "metadata": {},
   "outputs": [
    {
     "data": {
      "text/html": [
       "<p style=\"text-align:center;\">$\\begin{bmatrix}-1&1&1  \\\\-1&1&1  \\\\-3&3&3\\end{bmatrix}$</p>"
      ],
      "text/plain": [
       "Matrix([Vector([-1, -1, -3]), Vector([1, 1, 3]), Vector([1, 1, 3])])"
      ]
     },
     "execution_count": 10,
     "metadata": {},
     "output_type": "execute_result"
    }
   ],
   "source": [
    "Tr = T((-2,3,1))\n",
    "(Tr**-1).espejo() & Matrix(A) & Tr              # No cambia la traza"
   ]
  },
  {
   "cell_type": "code",
   "execution_count": 11,
   "metadata": {},
   "outputs": [
    {
     "data": {
      "text/html": [
       "<p style=\"text-align:center;\">$\\begin{bmatrix}-1&5&1  \\\\- \\frac{1}{5}&1&\\frac{1}{5}  \\\\-3&15&3\\end{bmatrix}$</p>"
      ],
      "text/plain": [
       "Matrix([Vector([-1, -1/5, -3]), Vector([5, 1, 15]), Vector([1, 1/5, 3])])"
      ]
     },
     "execution_count": 11,
     "metadata": {},
     "output_type": "execute_result"
    }
   ],
   "source": [
    "Tr = T((5,2)) & T((-2,3,1))\n",
    "(Tr**-1).espejo() & Matrix(A) & Tr              # No cambia la traza"
   ]
  },
  {
   "cell_type": "markdown",
   "metadata": {},
   "source": [
    "# Diagonalización por semejanza (Diagonalización por bloques triangulares)"
   ]
  },
  {
   "cell_type": "code",
   "execution_count": 12,
   "metadata": {},
   "outputs": [],
   "source": [
    "A=Matrix([[1,-1,0],[0,0,0],[0,-2,1]]); L=[1,1,0];"
   ]
  },
  {
   "cell_type": "code",
   "execution_count": 13,
   "metadata": {},
   "outputs": [
    {
     "data": {
      "text/latex": [
       "$\\displaystyle \\left[\\begin{array}{ccc}1&-1&0\\\\0&0&0\\\\0&-2&1\\\\ \\hline 1&0&0\\\\0&1&0\\\\0&0&1\\\\\\end{array}\\right]\\xrightarrow[1\\mathbf{I}]{(-)}\\left[\\begin{array}{ccc}0&-1&0\\\\0&-1&0\\\\0&-2&0\\\\ \\hline 1&0&0\\\\0&1&0\\\\0&0&1\\\\\\end{array}\\right]\\xrightarrow{\\underset{\\begin{subarray}{c} \\left[\\mathbf{1}\\rightleftharpoons\\mathbf{2}\\right]\\end{subarray}}{\\mathbf{\\tau}}}\\left[\\begin{array}{ccc}-1&0&0\\\\-1&0&0\\\\-2&0&0\\\\ \\hline 0&1&0\\\\1&0&0\\\\0&0&1\\\\\\end{array}\\right]\\xrightarrow[\\underset{\\begin{subarray}{c} \\left[\\mathbf{1}\\rightleftharpoons\\mathbf{2}\\right]\\end{subarray}}{\\mathbf{\\tau}}]{}\\left[\\begin{array}{ccc}-1&0&0\\\\-1&0&0\\\\-2&0&0\\\\ \\hline 0&1&0\\\\1&0&0\\\\0&0&1\\\\\\end{array}\\right]\\xrightarrow[1\\mathbf{I}]{(+)}\\left[\\begin{array}{ccc}0&0&0\\\\-1&1&0\\\\-2&0&1\\\\ \\hline 0&1&0\\\\1&0&0\\\\0&0&1\\\\\\end{array}\\right]\\xrightarrow[1\\mathbf{I}]{(-)}\\left[\\begin{array}{ccc}-1&0&0\\\\-1&0&0\\\\-2&0&0\\\\ \\hline 0&1&0\\\\1&0&0\\\\0&0&1\\\\\\end{array}\\right]\\xrightarrow[1\\mathbf{I}]{(+)}\\left[\\begin{array}{ccc}0&0&0\\\\-1&1&0\\\\-2&0&1\\\\ \\hline 0&1&0\\\\1&0&0\\\\0&0&1\\\\\\end{array}\\right]\\xrightarrow[0\\mathbf{I}]{(-)}\\left[\\begin{array}{ccc}0&0&0\\\\-1&1&0\\\\-2&0&1\\\\ \\hline 0&1&0\\\\1&0&0\\\\0&0&1\\\\\\end{array}\\right]\\xrightarrow{\\underset{\\begin{subarray}{c} \\left[\\left(1\\right)\\mathbf{2}+\\mathbf{1} \\right]\\end{subarray}}{\\mathbf{\\tau}}}\\left[\\begin{array}{ccc}0&0&0\\\\0&1&0\\\\-2&0&1\\\\ \\hline 1&1&0\\\\1&0&0\\\\0&0&1\\\\\\end{array}\\right]\\xrightarrow[\\underset{\\begin{subarray}{c} \\left[\\left(-1\\right)\\mathbf{1}+\\mathbf{2} \\right]\\end{subarray}}{\\mathbf{\\tau}}]{}\\left[\\begin{array}{ccc}0&0&0\\\\0&1&0\\\\-2&0&1\\\\ \\hline 1&1&0\\\\1&0&0\\\\0&0&1\\\\\\end{array}\\right]\\xrightarrow{\\underset{\\begin{subarray}{c} \\left[\\left(2\\right)\\mathbf{3}+\\mathbf{1} \\right]\\end{subarray}}{\\mathbf{\\tau}}}\\left[\\begin{array}{ccc}0&0&0\\\\0&1&0\\\\0&0&1\\\\ \\hline 1&1&0\\\\1&0&0\\\\2&0&1\\\\\\end{array}\\right]\\xrightarrow[\\underset{\\begin{subarray}{c} \\left[\\left(-2\\right)\\mathbf{1}+\\mathbf{3} \\right]\\end{subarray}}{\\mathbf{\\tau}}]{}\\left[\\begin{array}{ccc}0&0&0\\\\0&1&0\\\\0&0&1\\\\ \\hline 1&1&0\\\\1&0&0\\\\2&0&1\\\\\\end{array}\\right]\\xrightarrow[0\\mathbf{I}]{(+)}\\left[\\begin{array}{ccc}0&0&0\\\\0&1&0\\\\0&0&1\\\\ \\hline 1&1&0\\\\1&0&0\\\\2&0&1\\\\\\end{array}\\right]$"
      ],
      "text/plain": [
       "<IPython.core.display.Math object>"
      ]
     },
     "metadata": {},
     "output_type": "display_data"
    },
    {
     "data": {
      "text/html": [
       "<p style=\"text-align:center;\">$\\begin{bmatrix}0&0&0  \\\\0&1&0  \\\\0&0&1\\end{bmatrix}$</p>"
      ],
      "text/plain": [
       "Matrix([Vector([0, 0, 0]), Vector([0, 1, 0]), Vector([0, 0, 1])])"
      ]
     },
     "execution_count": 13,
     "metadata": {},
     "output_type": "execute_result"
    }
   ],
   "source": [
    "D = Diagonaliza (A, L, 1)          # Matriz diagonal por bloques triangulares\n",
    "D"
   ]
  },
  {
   "cell_type": "code",
   "execution_count": 14,
   "metadata": {},
   "outputs": [
    {
     "data": {
      "text/html": [
       "<p style=\"text-align:center;\">$\\begin{bmatrix}-2&0&3  \\\\3&-2&-9  \\\\-1&2&6\\end{bmatrix}$</p>"
      ],
      "text/plain": [
       "Matrix([Vector([-2, 3, -1]), Vector([0, -2, 2]), Vector([3, -9, 6])])"
      ]
     },
     "execution_count": 14,
     "metadata": {},
     "output_type": "execute_result"
    }
   ],
   "source": [
    "A = Matrix([[-2,0,3],[3,-2,-9],[-1,2,6]]); L=[1,1,0]; A"
   ]
  },
  {
   "cell_type": "code",
   "execution_count": 15,
   "metadata": {},
   "outputs": [
    {
     "data": {
      "text/latex": [
       "$\\displaystyle \\left[\\begin{array}{ccc}-2&0&3\\\\3&-2&-9\\\\-1&2&6\\\\ \\hline 1&0&0\\\\0&1&0\\\\0&0&1\\\\\\end{array}\\right]\\xrightarrow[1\\mathbf{I}]{(-)}\\left[\\begin{array}{ccc}-3&0&3\\\\3&-3&-9\\\\-1&2&5\\\\ \\hline 1&0&0\\\\0&1&0\\\\0&0&1\\\\\\end{array}\\right]\\xrightarrow{\\underset{\\begin{subarray}{c} \\left[\\left(1\\right)\\mathbf{1}+\\mathbf{3} \\right]\\end{subarray}}{\\mathbf{\\tau}}}\\left[\\begin{array}{ccc}-3&0&0\\\\3&-3&-6\\\\-1&2&4\\\\ \\hline 1&0&1\\\\0&1&0\\\\0&0&1\\\\\\end{array}\\right]\\xrightarrow{\\underset{\\begin{subarray}{c} \\left[\\left(-2\\right)\\mathbf{2}+\\mathbf{3} \\right]\\end{subarray}}{\\mathbf{\\tau}}}\\left[\\begin{array}{ccc}-3&0&0\\\\3&-3&0\\\\-1&2&0\\\\ \\hline 1&0&1\\\\0&1&-2\\\\0&0&1\\\\\\end{array}\\right]\\xrightarrow[\\underset{\\begin{subarray}{c} \\left[\\left(2\\right)\\mathbf{3}+\\mathbf{2} \\right]\\\\\\left[\\left(-1\\right)\\mathbf{3}+\\mathbf{1} \\right]\\end{subarray}}{\\mathbf{\\tau}}]{}\\left[\\begin{array}{ccc}-2&-2&0\\\\1&1&0\\\\-1&2&0\\\\ \\hline 1&0&1\\\\0&1&-2\\\\0&0&1\\\\\\end{array}\\right]\\xrightarrow[1\\mathbf{I}]{(+)}\\left[\\begin{array}{ccc}-1&-2&0\\\\1&2&0\\\\-1&2&1\\\\ \\hline 1&0&1\\\\0&1&-2\\\\0&0&1\\\\\\end{array}\\right]\\xrightarrow[1\\mathbf{I}]{(-)}\\left[\\begin{array}{ccc}-2&-2&0\\\\1&1&0\\\\-1&2&0\\\\ \\hline 1&0&1\\\\0&1&-2\\\\0&0&1\\\\\\end{array}\\right]\\xrightarrow{\\underset{\\begin{subarray}{c} \\left[\\left(-1\\right)\\mathbf{1}+\\mathbf{2} \\right]\\end{subarray}}{\\mathbf{\\tau}}}\\left[\\begin{array}{ccc}-2&0&0\\\\1&0&0\\\\-1&3&0\\\\ \\hline 1&-1&1\\\\0&1&-2\\\\0&0&1\\\\\\end{array}\\right]\\xrightarrow[\\underset{\\begin{subarray}{c} \\left[\\left(1\\right)\\mathbf{2}+\\mathbf{1} \\right]\\end{subarray}}{\\mathbf{\\tau}}]{}\\left[\\begin{array}{ccc}-1&0&0\\\\1&0&0\\\\-1&3&0\\\\ \\hline 1&-1&1\\\\0&1&-2\\\\0&0&1\\\\\\end{array}\\right]\\xrightarrow[1\\mathbf{I}]{(+)}\\left[\\begin{array}{ccc}0&0&0\\\\1&1&0\\\\-1&3&1\\\\ \\hline 1&-1&1\\\\0&1&-2\\\\0&0&1\\\\\\end{array}\\right]\\xrightarrow[0\\mathbf{I}]{(-)}\\left[\\begin{array}{ccc}0&0&0\\\\1&1&0\\\\-1&3&1\\\\ \\hline 1&-1&1\\\\0&1&-2\\\\0&0&1\\\\\\end{array}\\right]\\xrightarrow{\\underset{\\begin{subarray}{c} \\left[\\left(-1\\right)\\mathbf{2}+\\mathbf{1} \\right]\\end{subarray}}{\\mathbf{\\tau}}}\\left[\\begin{array}{ccc}0&0&0\\\\0&1&0\\\\-4&3&1\\\\ \\hline 2&-1&1\\\\-1&1&-2\\\\0&0&1\\\\\\end{array}\\right]\\xrightarrow[\\underset{\\begin{subarray}{c} \\left[\\left(1\\right)\\mathbf{1}+\\mathbf{2} \\right]\\end{subarray}}{\\mathbf{\\tau}}]{}\\left[\\begin{array}{ccc}0&0&0\\\\0&1&0\\\\-4&3&1\\\\ \\hline 2&-1&1\\\\-1&1&-2\\\\0&0&1\\\\\\end{array}\\right]\\xrightarrow{\\underset{\\begin{subarray}{c} \\left[\\left(4\\right)\\mathbf{3}+\\mathbf{1} \\right]\\end{subarray}}{\\mathbf{\\tau}}}\\left[\\begin{array}{ccc}0&0&0\\\\0&1&0\\\\0&3&1\\\\ \\hline 6&-1&1\\\\-9&1&-2\\\\4&0&1\\\\\\end{array}\\right]\\xrightarrow[\\underset{\\begin{subarray}{c} \\left[\\left(-4\\right)\\mathbf{1}+\\mathbf{3} \\right]\\end{subarray}}{\\mathbf{\\tau}}]{}\\left[\\begin{array}{ccc}0&0&0\\\\0&1&0\\\\0&3&1\\\\ \\hline 6&-1&1\\\\-9&1&-2\\\\4&0&1\\\\\\end{array}\\right]\\xrightarrow[0\\mathbf{I}]{(+)}\\left[\\begin{array}{ccc}0&0&0\\\\0&1&0\\\\0&3&1\\\\ \\hline 6&-1&1\\\\-9&1&-2\\\\4&0&1\\\\\\end{array}\\right]$"
      ],
      "text/plain": [
       "<IPython.core.display.Math object>"
      ]
     },
     "metadata": {},
     "output_type": "display_data"
    },
    {
     "data": {
      "text/html": [
       "<p style=\"text-align:center;\">$\\begin{bmatrix}0&0&0  \\\\0&1&0  \\\\0&3&1\\end{bmatrix}$</p>"
      ],
      "text/plain": [
       "Matrix([Vector([0, 0, 0]), Vector([0, 1, 3]), Vector([0, 0, 1])])"
      ]
     },
     "execution_count": 15,
     "metadata": {},
     "output_type": "execute_result"
    }
   ],
   "source": [
    "D = Diagonaliza (A, L, 1)          # Matriz diagonal por bloques triangulares\n",
    "D"
   ]
  },
  {
   "cell_type": "code",
   "execution_count": 16,
   "metadata": {},
   "outputs": [
    {
     "data": {
      "text/html": [
       "<p style=\"text-align:center;\">$\\begin{bmatrix}6&-1&1  \\\\-9&1&-2  \\\\4&0&1\\end{bmatrix}$</p>"
      ],
      "text/plain": [
       "Matrix([Vector([6, -9, 4]), Vector([-1, 1, 0]), Vector([1, -2, 1])])"
      ]
     },
     "execution_count": 16,
     "metadata": {},
     "output_type": "execute_result"
    }
   ],
   "source": [
    "S = D.S                            # D = (S**-1) * A * S    (La matriz S se guarda como un atributo de D)\n",
    "S"
   ]
  },
  {
   "cell_type": "code",
   "execution_count": 17,
   "metadata": {},
   "outputs": [
    {
     "data": {
      "text/html": [
       "<p style=\"text-align:center;\">$\\begin{bmatrix}0&0&0  \\\\0&1&0  \\\\0&3&1\\end{bmatrix}$</p>"
      ],
      "text/plain": [
       "Matrix([Vector([0, 0, 0]), Vector([0, 1, 3]), Vector([0, 0, 1])])"
      ]
     },
     "execution_count": 17,
     "metadata": {},
     "output_type": "execute_result"
    }
   ],
   "source": [
    "(S**-1) * A * S                    # Comprobación"
   ]
  },
  {
   "cell_type": "code",
   "execution_count": 18,
   "metadata": {},
   "outputs": [
    {
     "data": {
      "text/html": [
       "<p style=\"text-align:center;\">$\\begin{bmatrix}3&0&-1&1  \\\\3&2&-2&2  \\\\1&-2&2&0  \\\\-3&-2&3&-1\\end{bmatrix}$</p>"
      ],
      "text/plain": [
       "Matrix([Vector([3, 3, 1, -3]), Vector([0, 2, -2, -2]), Vector([-1, -2, 2, 3]), Vector([1, 2, 0, -1])])"
      ]
     },
     "execution_count": 18,
     "metadata": {},
     "output_type": "execute_result"
    }
   ],
   "source": [
    "A  = Matrix([[3,0,-1,1],[3,2,-2,2],[1,-2,2,0],[-3,-2,3,-1]]); L=[1,1,2,2]; A"
   ]
  },
  {
   "cell_type": "code",
   "execution_count": 19,
   "metadata": {},
   "outputs": [
    {
     "data": {
      "text/html": [
       "<p style=\"text-align:center;\">$\\begin{bmatrix}2&0&0&0  \\\\2&2&0&0  \\\\0&0&1&0  \\\\0&0&1&1\\end{bmatrix}$</p>"
      ],
      "text/plain": [
       "Matrix([Vector([2, 2, 0, 0]), Vector([0, 2, 0, 0]), Vector([0, 0, 1, 1]), Vector([0, 0, 0, 1])])"
      ]
     },
     "execution_count": 19,
     "metadata": {},
     "output_type": "execute_result"
    }
   ],
   "source": [
    "D = Diagonaliza (A, L)        # Añade como tercer argumento un 1 si quieres ver los pasos\n",
    "D"
   ]
  },
  {
   "cell_type": "code",
   "execution_count": 20,
   "metadata": {},
   "outputs": [
    {
     "data": {
      "text/html": [
       "<p style=\"text-align:center;\">$\\begin{bmatrix}0&0&0&-2  \\\\1&0&2&-2  \\\\1&-1&2&-2  \\\\1&-1&0&2\\end{bmatrix}$</p>"
      ],
      "text/plain": [
       "Matrix([Vector([0, 1, 1, 1]), Vector([0, 0, -1, -1]), Vector([0, 2, 2, 0]), Vector([-2, -2, -2, 2])])"
      ]
     },
     "execution_count": 20,
     "metadata": {},
     "output_type": "execute_result"
    }
   ],
   "source": [
    "S = D.S\n",
    "S"
   ]
  },
  {
   "cell_type": "code",
   "execution_count": 21,
   "metadata": {},
   "outputs": [
    {
     "data": {
      "text/html": [
       "<p style=\"text-align:center;\">$\\begin{pmatrix}0\\\\0\\\\-2\\\\-2\\end{pmatrix}$</p>"
      ],
      "text/plain": [
       "Vector([0, 0, -2, -2])"
      ]
     },
     "execution_count": 21,
     "metadata": {},
     "output_type": "execute_result"
    }
   ],
   "source": [
    "# Las columnas de S que están bajo las que en D solo tienen una componente distinta de cero son autovectores\n",
    "A * (S|2)"
   ]
  },
  {
   "cell_type": "code",
   "execution_count": 22,
   "metadata": {},
   "outputs": [
    {
     "data": {
      "text/html": [
       "<p style=\"text-align:center;\">$\\begin{pmatrix}-2\\\\-2\\\\-2\\\\2\\end{pmatrix}$</p>"
      ],
      "text/plain": [
       "Vector([-2, -2, -2, 2])"
      ]
     },
     "execution_count": 22,
     "metadata": {},
     "output_type": "execute_result"
    }
   ],
   "source": [
    "A * (S|4)"
   ]
  },
  {
   "cell_type": "markdown",
   "metadata": {},
   "source": [
    "# Matrices diagonalizables"
   ]
  },
  {
   "cell_type": "code",
   "execution_count": 23,
   "metadata": {},
   "outputs": [
    {
     "data": {
      "text/html": [
       "<p style=\"text-align:center;\">$\\begin{bmatrix}3&4&2  \\\\0&1&2  \\\\0&0&0\\end{bmatrix}$</p>"
      ],
      "text/plain": [
       "Matrix([Vector([3, 0, 0]), Vector([4, 1, 0]), Vector([2, 2, 0])])"
      ]
     },
     "execution_count": 23,
     "metadata": {},
     "output_type": "execute_result"
    }
   ],
   "source": [
    "A  = Matrix([[3,4,2],[0,1,2],[0,0,0]]); L=[0,1,3]; A"
   ]
  },
  {
   "cell_type": "code",
   "execution_count": 24,
   "metadata": {},
   "outputs": [
    {
     "data": {
      "text/latex": [
       "$\\displaystyle \\left[\\begin{array}{ccc}3&4&2\\\\0&1&2\\\\0&0&0\\\\ \\hline 1&0&0\\\\0&1&0\\\\0&0&1\\\\\\end{array}\\right]\\xrightarrow[0\\mathbf{I}]{(-)}\\left[\\begin{array}{ccc}3&4&2\\\\0&1&2\\\\0&0&0\\\\ \\hline 1&0&0\\\\0&1&0\\\\0&0&1\\\\\\end{array}\\right]\\xrightarrow{\\underset{\\begin{subarray}{c} \\left[\\left(3\\right)\\mathbf{2}\\right]\\\\\\left[\\left(-4\\right)\\mathbf{1}+\\mathbf{2} \\right]\\\\\\left[\\left(3\\right)\\mathbf{3}\\right]\\\\\\left[\\left(-2\\right)\\mathbf{1}+\\mathbf{3} \\right]\\end{subarray}}{\\mathbf{\\tau}}}\\left[\\begin{array}{ccc}3&0&0\\\\0&3&6\\\\0&0&0\\\\ \\hline 1&-4&-2\\\\0&3&0\\\\0&0&3\\\\\\end{array}\\right]\\xrightarrow{\\underset{\\begin{subarray}{c} \\left[\\left(-2\\right)\\mathbf{2}+\\mathbf{3} \\right]\\end{subarray}}{\\mathbf{\\tau}}}\\left[\\begin{array}{ccc}3&0&0\\\\0&3&0\\\\0&0&0\\\\ \\hline 1&-4&6\\\\0&3&-6\\\\0&0&3\\\\\\end{array}\\right]\\xrightarrow[\\underset{\\begin{subarray}{c} \\left[\\left(2\\right)\\mathbf{3}+\\mathbf{2} \\right]\\\\\\left[\\left(2\\right)\\mathbf{3}+\\mathbf{1} \\right]\\\\\\left[\\left(\\frac{1}{3}\\right)\\mathbf{3}\\right]\\\\\\left[\\left(4\\right)\\mathbf{2}+\\mathbf{1} \\right]\\\\\\left[\\left(\\frac{1}{3}\\right)\\mathbf{2}\\right]\\end{subarray}}{\\mathbf{\\tau}}]{}\\left[\\begin{array}{ccc}3&4&0\\\\0&1&0\\\\0&0&0\\\\ \\hline 1&-4&6\\\\0&3&-6\\\\0&0&3\\\\\\end{array}\\right]\\xrightarrow[0\\mathbf{I}]{(+)}\\left[\\begin{array}{ccc}3&4&0\\\\0&1&0\\\\0&0&0\\\\ \\hline 1&-4&6\\\\0&3&-6\\\\0&0&3\\\\\\end{array}\\right]\\xrightarrow[1\\mathbf{I}]{(-)}\\left[\\begin{array}{ccc}2&4&0\\\\0&0&0\\\\0&0&-1\\\\ \\hline 1&-4&6\\\\0&3&-6\\\\0&0&3\\\\\\end{array}\\right]\\xrightarrow{\\underset{\\begin{subarray}{c} \\left[\\left(-2\\right)\\mathbf{1}+\\mathbf{2} \\right]\\end{subarray}}{\\mathbf{\\tau}}}\\left[\\begin{array}{ccc}2&0&0\\\\0&0&0\\\\0&0&-1\\\\ \\hline 1&-6&6\\\\0&3&-6\\\\0&0&3\\\\\\end{array}\\right]\\xrightarrow[\\underset{\\begin{subarray}{c} \\left[\\left(2\\right)\\mathbf{2}+\\mathbf{1} \\right]\\end{subarray}}{\\mathbf{\\tau}}]{}\\left[\\begin{array}{ccc}2&0&0\\\\0&0&0\\\\0&0&-1\\\\ \\hline 1&-6&6\\\\0&3&-6\\\\0&0&3\\\\\\end{array}\\right]\\xrightarrow[1\\mathbf{I}]{(+)}\\left[\\begin{array}{ccc}3&0&0\\\\0&1&0\\\\0&0&0\\\\ \\hline 1&-6&6\\\\0&3&-6\\\\0&0&3\\\\\\end{array}\\right]\\xrightarrow[3\\mathbf{I}]{(-)}\\left[\\begin{array}{ccc}0&0&0\\\\0&-2&0\\\\0&0&-3\\\\ \\hline 1&-6&6\\\\0&3&-6\\\\0&0&3\\\\\\end{array}\\right]\\xrightarrow[3\\mathbf{I}]{(+)}\\left[\\begin{array}{ccc}3&0&0\\\\0&1&0\\\\0&0&0\\\\ \\hline 1&-6&6\\\\0&3&-6\\\\0&0&3\\\\\\end{array}\\right]$"
      ],
      "text/plain": [
       "<IPython.core.display.Math object>"
      ]
     },
     "metadata": {},
     "output_type": "display_data"
    },
    {
     "data": {
      "text/html": [
       "<p style=\"text-align:center;\">$\\begin{bmatrix}3&0&0  \\\\0&1&0  \\\\0&0&0\\end{bmatrix}$</p>"
      ],
      "text/plain": [
       "Matrix([Vector([3, 0, 0]), Vector([0, 1, 0]), Vector([0, 0, 0])])"
      ]
     },
     "execution_count": 24,
     "metadata": {},
     "output_type": "execute_result"
    }
   ],
   "source": [
    "Diagonaliza (A, L, 1)    # Esta matriz es diagonalizable"
   ]
  },
  {
   "cell_type": "markdown",
   "metadata": {
    "ein.tags": "worksheet-0",
    "slideshow": {
     "slide_type": "-"
    }
   },
   "source": [
    "\n",
    "---- FIN DE LA LECCIÓN -----\n",
    "\n",
    "\n",
    "\n",
    "Lo que sigue es sólo para crear un índice de contenidos de este notebook (y se muestra al principio de la página)"
   ]
  },
  {
   "cell_type": "code",
   "execution_count": 25,
   "metadata": {
    "autoscroll": false,
    "ein.hycell": false,
    "ein.tags": "worksheet-0",
    "slideshow": {
     "slide_type": "-"
    }
   },
   "outputs": [
    {
     "data": {
      "application/javascript": [
       "$.getScript('https://kmahelona.github.io/ipython_notebook_goodies/ipython_notebook_toc.js')\n",
       "$.getScript('https://kmahelona.github.io/ipython_notebook_goodies/ipython_notebook_toc.js')\n"
      ],
      "text/plain": [
       "<IPython.core.display.Javascript object>"
      ]
     },
     "metadata": {},
     "output_type": "display_data"
    }
   ],
   "source": [
    "%%javascript\n",
    "$.getScript('https://kmahelona.github.io/ipython_notebook_goodies/ipython_notebook_toc.js')\n",
    "$.getScript('https://kmahelona.github.io/ipython_notebook_goodies/ipython_notebook_toc.js')"
   ]
  }
 ],
 "metadata": {
  "kernelspec": {
   "display_name": "Python 3",
   "language": "python",
   "name": "python3"
  },
  "language_info": {
   "codemirror_mode": {
    "name": "ipython",
    "version": 3
   },
   "file_extension": ".py",
   "mimetype": "text/x-python",
   "name": "python",
   "nbconvert_exporter": "python",
   "pygments_lexer": "ipython3",
   "version": "3.8.5"
  },
  "name": "Leccion05.ipynb"
 },
 "nbformat": 4,
 "nbformat_minor": 2
}
