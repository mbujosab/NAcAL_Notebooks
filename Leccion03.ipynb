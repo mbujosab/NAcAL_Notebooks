{
 "cells": [
  {
   "cell_type": "markdown",
   "metadata": {
    "ein.tags": "worksheet-0",
    "slideshow": {
     "slide_type": "-"
    }
   },
   "source": [
    "$\n",
    "\\renewcommand{\\R}[1][{}]{{\\mathbb{R}}^{#1}}\n",
    "\\renewcommand{\\Z}[1][{}]{{\\mathbb{Z}}^{#1}}\n",
    "%%%%%%%%%%%%%%%%%%%%%%%%%%%%%%%%%%%%%%%%%%%%%%%%%%%%%%%%%%%%%%%%%%%%%%%%%%%%\n",
    "\\renewcommand{\\getitemR}[1]{\\getItem{#1}}\n",
    "\\renewcommand{\\getItem}{\\pmb{\\mid}}\n",
    "\\renewcommand{\\elemR}[2]{{#1}^{\\phantom{\\T}}_{\\getitemR{#2}}} \n",
    "\\renewcommand{\\elemRP}[2]{{\\big(#1\\big)}^{\\phantom{\\T}}_{\\getitemR{#2}}} \n",
    "\\renewcommand{\\elemRPE}[2]{\\big({#1}^{\\phantom{\\T}}_{\\getitemR{#2}}\\big)}\n",
    "%%%%%%%%%%%%%%%%%%%%%%%%%%%%%%%%%%%%%%%%%%%%%%%%%%%%%%%%%%%%%%%%%%%%%%%%%%%%\n",
    "\\renewcommand{\\Vect}[2][{}]{{\\boldsymbol{#2}}_{#1}}\n",
    "\\renewcommand{\\eleVR}[2]  {\\elemR  {\\Vect{#1}}{#2}}\t % con subindices\n",
    "\\renewcommand{\\eleVRP}[2] {\\elemRP {\\Vect{#1}}{#2}}      % con subindices y paréntesis interior\n",
    "\\renewcommand{\\eleVRPE}[2]{\\elemRPE{\\Vect{#1}}{#2}}      % con subindices y paréntesis exterior\n",
    "%%%%%%%%%%%%%%%%%%%%%%%%%%%%%%%%%%%%%%%%%%%%%%%%%%%%%%%%%%%%%%%%%%%%%%%%%%%%\n",
    "\\renewcommand{\\VectC}[2][{}]  {\\elemR  {\\Mat{#2}}{#1}}   % con subindices\n",
    "\\renewcommand{\\VectCP}[2][{}] {\\elemRP {\\Mat{#2}}{#1}}   % con subindices y paréntesis\n",
    "\\renewcommand{\\VectCPE}[2][{}]{\\elemRPE{\\Mat{#2}}{#1}}   % con subindices y paréntesis exterior\n",
    "%%%%%%%%%%%%%%%%%%%%%%%%%%%%%%%%%%%%%%%%%%%%%%%%%%%%%%%%%%%%%%%%%%%%%%%%%%%%\n",
    "\\renewcommand{\\mat}[1]{\\mathbf{#1}}\n",
    "\\renewcommand{\\Mat} [2][{}]{{\\mat{#2}}_{#1}} \n",
    "\\renewcommand{\\T}{\\intercal}\n",
    "\\renewcommand{\\MatT}[2][{}]{{\\mat{#2}}^{\\T}_{#1}}\n",
    "\\renewcommand{\\VectC}[2][{}]    {\\elemR  {\\Mat{#2}}{#1}}   % con subindices\n",
    "\\renewcommand{\\VectCP}[2][{}]   {\\elemRP  {\\Mat{#2}}{#1}}   % con subindices y paréntesis\n",
    "\\renewcommand{\\VectCPE}[2][{}]  {\\elemRPE  {\\Mat{#2}}{#1}}   % con subindices y paréntesis exterior\n",
    "\\renewcommand{\\VectCC}[2][{}]   {\\elemRR {\\Mat{#2}}{#1}}   % con ()\n",
    "\\renewcommand{\\VectCCC}[2][{}]  {\\elemRRR{\\Mat{#2}}{#1}}   % con texto \"col\"\n",
    "%SELECCIÓNA de FILAS y COlUMNAS DE UNA MATRIZ TRANSPUESTA PARA GENERAR UN VECTOR DE Rn\n",
    "\\renewcommand{\\VectTC}[2][{}]   {\\elemR{\\MatT{#2}\\!}{#1}}  % con subindices\n",
    "\\renewcommand{\\VectTCC}[2][{}]  {\\elemRR{ \\MatT{#2}}{#1}}  % con ()\n",
    "\\renewcommand{\\VectTCCC}[2][{}] {\\elemRRR{\\MatT{#2}}{#1}}  % con texto \"col\"\n",
    "$"
   ]
  },
  {
   "cell_type": "markdown",
   "metadata": {
    "ein.tags": "worksheet-0",
    "slideshow": {
     "slide_type": "-"
    }
   },
   "source": [
    "${\\huge\\text{Jupyter notebook de la Lección 3}}$"
   ]
  },
  {
   "cell_type": "markdown",
   "metadata": {
    "ein.tags": "worksheet-0",
    "slideshow": {
     "slide_type": "-"
    }
   },
   "source": [
    "**Índice de contenidos de este notebook** (Requiere ejecutar todo el Notebook para que aparezca el índice)\n",
    "<div id=\"toc\"></div>"
   ]
  },
  {
   "cell_type": "code",
   "execution_count": 1,
   "metadata": {},
   "outputs": [
    {
     "name": "stdout",
     "output_type": "stream",
     "text": [
      "Requirement already satisfied: nacal in /home/marcos/.local/lib/python3.9/site-packages (0.1.13)\n",
      "Requirement already satisfied: sympy>=1.1.0 in /usr/lib/python3/dist-packages (from nacal) (1.7.1)\n",
      "Note: you may need to restart the kernel to use updated packages.\n"
     ]
    }
   ],
   "source": [
    "pip install nacal"
   ]
  },
  {
   "cell_type": "code",
   "execution_count": 2,
   "metadata": {
    "autoscroll": false,
    "ein.hycell": false,
    "ein.tags": "worksheet-0",
    "slideshow": {
     "slide_type": "-"
    }
   },
   "outputs": [],
   "source": [
    "from nacal import *"
   ]
  },
  {
   "cell_type": "markdown",
   "metadata": {
    "ein.tags": "worksheet-0",
    "slideshow": {
     "slide_type": "-"
    }
   },
   "source": [
    "# Producto de matrices\n",
    "\n",
    "En las notas de la asignatura (y en nuestra librería de Python),\n",
    "definimos el producto de una matriz $\\Mat{A}$ de orden $m\\times p$ por\n",
    "otra matriz $\\Mat{B}$ de orden $p\\times n$ como aquella matriz cuya\n",
    "columna $j$-ésima es\n",
    "    $$\n",
    "    \\VectCP[j]{AB}=\\Mat{A}\\VectCPE[j]{B}\n",
    "    $$\n",
    "Es decir, cada columna de $\\Mat{AB}$ es una combinación lineal (i.e.,\n",
    "matriz por vector) de las columnas de $\\Mat{A}$.\n",
    "\n",
    "Compruebe con ejemplos que efectivamente es así. Por ejemplo"
   ]
  },
  {
   "cell_type": "code",
   "execution_count": 3,
   "metadata": {},
   "outputs": [],
   "source": [
    "x=Vector((1, 1, -2)); y=Vector((1, -2, 1)); z=Vector((-2, 1, 1))\n",
    "A=Matrix([x,y,z])\n",
    "B=Matrix([z,x])"
   ]
  },
  {
   "cell_type": "code",
   "execution_count": 4,
   "metadata": {
    "autoscroll": false,
    "ein.hycell": false,
    "ein.tags": "worksheet-0",
    "slideshow": {
     "slide_type": "-"
    }
   },
   "outputs": [
    {
     "data": {
      "text/html": [
       "<p style=\"text-align:center;\">$\\begin{pmatrix}6\\\\-3\\\\-3\\end{pmatrix}$</p>"
      ],
      "text/plain": [
       "Vector([6, -3, -3])"
      ]
     },
     "execution_count": 4,
     "metadata": {},
     "output_type": "execute_result"
    }
   ],
   "source": [
    "(A*B)|2"
   ]
  },
  {
   "cell_type": "code",
   "execution_count": 5,
   "metadata": {
    "autoscroll": false,
    "ein.hycell": false,
    "ein.tags": "worksheet-0",
    "slideshow": {
     "slide_type": "-"
    }
   },
   "outputs": [
    {
     "data": {
      "text/html": [
       "<p style=\"text-align:center;\">$\\begin{pmatrix}6\\\\-3\\\\-3\\end{pmatrix}$</p>"
      ],
      "text/plain": [
       "Vector([6, -3, -3])"
      ]
     },
     "execution_count": 5,
     "metadata": {},
     "output_type": "execute_result"
    }
   ],
   "source": [
    "A*(B|2)"
   ]
  },
  {
   "cell_type": "markdown",
   "metadata": {
    "ein.tags": "worksheet-0",
    "slideshow": {
     "slide_type": "-"
    }
   },
   "source": [
    "# Propiedades del producto de matrices\n",
    "\n",
    "Genere dos matrices, $\\Mat{A}$ y $\\Mat{B}$, de orden $m\\times p$, dos\n",
    "matrices, $\\Mat{C}$ y $\\Mat{D}$, de orden $p\\times n$ y un vector\n",
    "$\\Vect{v}$ de $\\R[p]$ (decida antes qué valores asigna a $m$, $n$ y\n",
    "$p$).\n"
   ]
  },
  {
   "cell_type": "code",
   "execution_count": 6,
   "metadata": {
    "autoscroll": false,
    "ein.hycell": false,
    "ein.tags": "worksheet-0",
    "slideshow": {
     "slide_type": "-"
    }
   },
   "outputs": [
    {
     "data": {
      "text/html": [
       "<p style=\"text-align:center;\">$\\left[ \\begin{array}{cc}1&2\\\\2&-1\\\\1&2\\\\ \\end{array} \\right]$</p>"
      ],
      "text/plain": [
       "Matrix([Vector([1, 2, 1]), Vector([2, -1, 2])])"
      ]
     },
     "execution_count": 6,
     "metadata": {},
     "output_type": "execute_result"
    }
   ],
   "source": [
    "# Defina una matriz A de orden m por p\n",
    "A=Matrix([ Vector([1,2,1]), Vector([2,-1,2]) ])\n",
    "A    "
   ]
  },
  {
   "cell_type": "code",
   "execution_count": 7,
   "metadata": {
    "autoscroll": false,
    "ein.hycell": false,
    "ein.tags": "worksheet-0",
    "slideshow": {
     "slide_type": "-"
    }
   },
   "outputs": [
    {
     "data": {
      "text/html": [
       "<p style=\"text-align:center;\">$\\left[ \\begin{array}{cc}1&3\\\\1&6\\\\1&1\\\\ \\end{array} \\right]$</p>"
      ],
      "text/plain": [
       "Matrix([Vector([1, 1, 1]), Vector([3, 6, 1])])"
      ]
     },
     "execution_count": 7,
     "metadata": {},
     "output_type": "execute_result"
    }
   ],
   "source": [
    "# Defina una matriz B de orden m por p\n",
    "B=Matrix([ Vector([1,1,1]), Vector([3,6,1]) ])\n",
    "B    "
   ]
  },
  {
   "cell_type": "code",
   "execution_count": 8,
   "metadata": {
    "autoscroll": false,
    "ein.hycell": false,
    "ein.tags": "worksheet-0",
    "slideshow": {
     "slide_type": "-"
    }
   },
   "outputs": [
    {
     "data": {
      "text/html": [
       "<p style=\"text-align:center;\">$\\left[ \\begin{array}{ccc}1&1&1\\\\1&-1&0\\\\ \\end{array} \\right]$</p>"
      ],
      "text/plain": [
       "Matrix([Vector([1, 1]), Vector([1, -1]), Vector([1, 0])])"
      ]
     },
     "execution_count": 8,
     "metadata": {},
     "output_type": "execute_result"
    }
   ],
   "source": [
    "# Defina una matriz C de orden p por n\n",
    "C=Matrix([ [1,1,1], [1, -1, 0] ])\n",
    "C    "
   ]
  },
  {
   "cell_type": "code",
   "execution_count": 9,
   "metadata": {
    "autoscroll": false,
    "ein.hycell": false,
    "ein.tags": "worksheet-0",
    "slideshow": {
     "slide_type": "-"
    }
   },
   "outputs": [
    {
     "data": {
      "text/html": [
       "<p style=\"text-align:center;\">$\\left[ \\begin{array}{ccc}1&0&2\\\\1&1&-1\\\\ \\end{array} \\right]$</p>"
      ],
      "text/plain": [
       "Matrix([Vector([1, 1]), Vector([0, 1]), Vector([2, -1])])"
      ]
     },
     "execution_count": 9,
     "metadata": {},
     "output_type": "execute_result"
    }
   ],
   "source": [
    "# Defina una matriz D de orden p por n\n",
    "D=Matrix([ Vector([1,1]), Vector([0,1]), Vector([2,-1]) ])\n",
    "D    "
   ]
  },
  {
   "cell_type": "code",
   "execution_count": 10,
   "metadata": {
    "autoscroll": false,
    "ein.hycell": false,
    "ein.tags": "worksheet-0",
    "slideshow": {
     "slide_type": "-"
    }
   },
   "outputs": [
    {
     "data": {
      "text/html": [
       "<p style=\"text-align:center;\">$\\begin{pmatrix}2\\\\4\\\\1\\end{pmatrix}$</p>"
      ],
      "text/plain": [
       "Vector([2, 4, 1])"
      ]
     },
     "execution_count": 10,
     "metadata": {},
     "output_type": "execute_result"
    }
   ],
   "source": [
    "# Defina un vector v con n componentes\n",
    "v=Vector([2,4,1])\n",
    "v    "
   ]
  },
  {
   "cell_type": "markdown",
   "metadata": {
    "ein.tags": "worksheet-0",
    "slideshow": {
     "slide_type": "-"
    }
   },
   "source": [
    "Verifique que\n",
    "$$\n",
    "\\Mat{A}(\\Mat{C}\\Vect{v})=(\\Mat{AB})\\Vect{v}\n",
    "$$"
   ]
  },
  {
   "cell_type": "code",
   "execution_count": 11,
   "metadata": {
    "autoscroll": false,
    "ein.hycell": false,
    "ein.tags": "worksheet-0",
    "slideshow": {
     "slide_type": "-"
    }
   },
   "outputs": [
    {
     "data": {
      "text/html": [
       "<p style=\"text-align:center;\">$\\begin{pmatrix}3\\\\16\\\\3\\end{pmatrix}$</p>"
      ],
      "text/plain": [
       "Vector([3, 16, 3])"
      ]
     },
     "execution_count": 11,
     "metadata": {},
     "output_type": "execute_result"
    }
   ],
   "source": [
    "# escriba aquí la parte izquierda de la ecuación\n",
    "A*(C*v)"
   ]
  },
  {
   "cell_type": "code",
   "execution_count": 12,
   "metadata": {
    "autoscroll": false,
    "ein.hycell": false,
    "ein.tags": "worksheet-0",
    "slideshow": {
     "slide_type": "-"
    }
   },
   "outputs": [
    {
     "data": {
      "text/html": [
       "<p style=\"text-align:center;\">$\\begin{pmatrix}3\\\\16\\\\3\\end{pmatrix}$</p>"
      ],
      "text/plain": [
       "Vector([3, 16, 3])"
      ]
     },
     "execution_count": 12,
     "metadata": {},
     "output_type": "execute_result"
    }
   ],
   "source": [
    "# escriba aquí la parte derecha de la ecuación\n",
    "(A*C)*v"
   ]
  },
  {
   "cell_type": "markdown",
   "metadata": {
    "ein.tags": "worksheet-0",
    "slideshow": {
     "slide_type": "-"
    }
   },
   "source": [
    "¿Son necesarios los paréntesis en las expresiones anteriores?"
   ]
  },
  {
   "cell_type": "markdown",
   "metadata": {
    "ein.tags": "worksheet-0",
    "slideshow": {
     "slide_type": "-"
    }
   },
   "source": [
    "Genere una matriz $\\Mat{F}$ de orden $n$ por $k$ (es decir, con tantas\n",
    "filas como columnas tiene $\\Mat{C}$"
   ]
  },
  {
   "cell_type": "code",
   "execution_count": 13,
   "metadata": {
    "autoscroll": false,
    "ein.hycell": false,
    "ein.tags": "worksheet-0",
    "slideshow": {
     "slide_type": "-"
    }
   },
   "outputs": [
    {
     "data": {
      "text/html": [
       "<p style=\"text-align:center;\">$\\left[ \\begin{array}{cc}1&0\\\\0&-1\\\\2&0\\\\ \\end{array} \\right]$</p>"
      ],
      "text/plain": [
       "Matrix([Vector([1, 0, 2]), Vector([0, -1, 0])])"
      ]
     },
     "execution_count": 13,
     "metadata": {},
     "output_type": "execute_result"
    }
   ],
   "source": [
    "# Defina una matriz D de orden p por n\n",
    "F=Matrix([ Vector([1,0,2]), Vector([0,-1,0]) ])\n",
    "F"
   ]
  },
  {
   "cell_type": "markdown",
   "metadata": {
    "ein.tags": "worksheet-0",
    "slideshow": {
     "slide_type": "-"
    }
   },
   "source": [
    "Verifique que\n",
    "$$\n",
    "\\Mat{A}(\\Mat{CF})=(\\Mat{AC})\\Mat{F}\n",
    "$$"
   ]
  },
  {
   "cell_type": "code",
   "execution_count": 14,
   "metadata": {
    "autoscroll": false,
    "ein.hycell": false,
    "ein.tags": "worksheet-0",
    "slideshow": {
     "slide_type": "-"
    }
   },
   "outputs": [
    {
     "data": {
      "text/html": [
       "<p style=\"text-align:center;\">$\\left[ \\begin{array}{cc}5&1\\\\5&-3\\\\5&1\\\\ \\end{array} \\right]$</p>"
      ],
      "text/plain": [
       "Matrix([Vector([5, 5, 5]), Vector([1, -3, 1])])"
      ]
     },
     "execution_count": 14,
     "metadata": {},
     "output_type": "execute_result"
    }
   ],
   "source": [
    "# escriba aquí la parte izquierda de la ecuación\n",
    "A*(C*F)"
   ]
  },
  {
   "cell_type": "code",
   "execution_count": 15,
   "metadata": {
    "autoscroll": false,
    "ein.hycell": false,
    "ein.tags": "worksheet-0",
    "slideshow": {
     "slide_type": "-"
    }
   },
   "outputs": [
    {
     "data": {
      "text/html": [
       "<p style=\"text-align:center;\">$\\left[ \\begin{array}{cc}5&1\\\\5&-3\\\\5&1\\\\ \\end{array} \\right]$</p>"
      ],
      "text/plain": [
       "Matrix([Vector([5, 5, 5]), Vector([1, -3, 1])])"
      ]
     },
     "execution_count": 15,
     "metadata": {},
     "output_type": "execute_result"
    }
   ],
   "source": [
    "# escriba aquí la parte derecha de la ecuación\n",
    "(A*C)*F"
   ]
  },
  {
   "cell_type": "markdown",
   "metadata": {
    "ein.tags": "worksheet-0",
    "slideshow": {
     "slide_type": "-"
    }
   },
   "source": [
    "¿Son necesarios los paréntesis en las expresiones anteriores?"
   ]
  },
  {
   "cell_type": "markdown",
   "metadata": {
    "ein.tags": "worksheet-0",
    "slideshow": {
     "slide_type": "-"
    }
   },
   "source": [
    "Verifique que\n",
    "$$\n",
    "(\\Mat{A}+\\Mat{B})\\Mat{C}=\\Mat{AC}+\\Mat{BC}\n",
    "$$"
   ]
  },
  {
   "cell_type": "code",
   "execution_count": 16,
   "metadata": {
    "autoscroll": false,
    "ein.hycell": false,
    "ein.tags": "worksheet-0",
    "slideshow": {
     "slide_type": "-"
    }
   },
   "outputs": [
    {
     "data": {
      "text/html": [
       "<p style=\"text-align:center;\">$\\left[ \\begin{array}{ccc}7&-3&2\\\\8&-2&3\\\\5&-1&2\\\\ \\end{array} \\right]$</p>"
      ],
      "text/plain": [
       "Matrix([Vector([7, 8, 5]), Vector([-3, -2, -1]), Vector([2, 3, 2])])"
      ]
     },
     "execution_count": 16,
     "metadata": {},
     "output_type": "execute_result"
    }
   ],
   "source": [
    "# escriba aquí la parte izquierda de la ecuación\n",
    "(A+B)*C"
   ]
  },
  {
   "cell_type": "code",
   "execution_count": 17,
   "metadata": {
    "autoscroll": false,
    "ein.hycell": false,
    "ein.tags": "worksheet-0",
    "slideshow": {
     "slide_type": "-"
    }
   },
   "outputs": [
    {
     "data": {
      "text/html": [
       "<p style=\"text-align:center;\">$\\left[ \\begin{array}{ccc}7&-3&2\\\\8&-2&3\\\\5&-1&2\\\\ \\end{array} \\right]$</p>"
      ],
      "text/plain": [
       "Matrix([Vector([7, 8, 5]), Vector([-3, -2, -1]), Vector([2, 3, 2])])"
      ]
     },
     "execution_count": 17,
     "metadata": {},
     "output_type": "execute_result"
    }
   ],
   "source": [
    "# escriba aquí la parte derecha de la ecuación\n",
    "A*C+B*C"
   ]
  },
  {
   "cell_type": "markdown",
   "metadata": {
    "ein.tags": "worksheet-0",
    "slideshow": {
     "slide_type": "-"
    }
   },
   "source": [
    "Verifique que\n",
    "$$\n",
    "\\Mat{A}(\\Mat{C}+\\Mat{D})=\\Mat{AC}+\\Mat{AD}\n",
    "$$"
   ]
  },
  {
   "cell_type": "code",
   "execution_count": 18,
   "metadata": {
    "autoscroll": false,
    "ein.hycell": false,
    "ein.tags": "worksheet-0",
    "slideshow": {
     "slide_type": "-"
    }
   },
   "outputs": [
    {
     "data": {
      "text/html": [
       "<p style=\"text-align:center;\">$\\left[ \\begin{array}{ccc}6&1&1\\\\2&2&7\\\\6&1&1\\\\ \\end{array} \\right]$</p>"
      ],
      "text/plain": [
       "Matrix([Vector([6, 2, 6]), Vector([1, 2, 1]), Vector([1, 7, 1])])"
      ]
     },
     "execution_count": 18,
     "metadata": {},
     "output_type": "execute_result"
    }
   ],
   "source": [
    "# escriba aquí la parte izquierda de la ecuación\n",
    "A*(C+D)"
   ]
  },
  {
   "cell_type": "code",
   "execution_count": 19,
   "metadata": {
    "autoscroll": false,
    "ein.hycell": false,
    "ein.tags": "worksheet-0",
    "slideshow": {
     "slide_type": "-"
    }
   },
   "outputs": [
    {
     "data": {
      "text/html": [
       "<p style=\"text-align:center;\">$\\left[ \\begin{array}{ccc}6&1&1\\\\2&2&7\\\\6&1&1\\\\ \\end{array} \\right]$</p>"
      ],
      "text/plain": [
       "Matrix([Vector([6, 2, 6]), Vector([1, 2, 1]), Vector([1, 7, 1])])"
      ]
     },
     "execution_count": 19,
     "metadata": {},
     "output_type": "execute_result"
    }
   ],
   "source": [
    "# escriba aquí la parte derecha de la ecuación\n",
    "A*C+A*D"
   ]
  },
  {
   "cell_type": "markdown",
   "metadata": {
    "ein.tags": "worksheet-0",
    "slideshow": {
     "slide_type": "-"
    }
   },
   "source": [
    "Verifique que\n",
    "$$\n",
    "\\Mat{A}(\\lambda\\Mat{C})\n",
    "=\n",
    "\\lambda(\\Mat{A}\\Mat{C})\n",
    "=\n",
    "(\\lambda\\Mat{A})\\Mat{C}\n",
    "$$"
   ]
  },
  {
   "cell_type": "code",
   "execution_count": null,
   "metadata": {
    "autoscroll": false,
    "ein.hycell": false,
    "ein.tags": "worksheet-0",
    "slideshow": {
     "slide_type": "-"
    }
   },
   "outputs": [],
   "source": []
  },
  {
   "cell_type": "code",
   "execution_count": null,
   "metadata": {
    "autoscroll": false,
    "ein.hycell": false,
    "ein.tags": "worksheet-0",
    "slideshow": {
     "slide_type": "-"
    }
   },
   "outputs": [],
   "source": []
  },
  {
   "cell_type": "code",
   "execution_count": null,
   "metadata": {
    "autoscroll": false,
    "ein.hycell": false,
    "ein.tags": "worksheet-0",
    "slideshow": {
     "slide_type": "-"
    }
   },
   "outputs": [],
   "source": []
  },
  {
   "cell_type": "markdown",
   "metadata": {
    "ein.tags": "worksheet-0",
    "slideshow": {
     "slide_type": "-"
    }
   },
   "source": [
    "Verifique que\n",
    "$\n",
    "\\Mat{A}\\Mat{I}=\\Mat{A}\n",
    "$\n",
    "y que\n",
    "$\n",
    "\\Mat{I}\\Mat{A}=\\Mat{A}\n",
    "$"
   ]
  },
  {
   "cell_type": "code",
   "execution_count": null,
   "metadata": {
    "autoscroll": false,
    "ein.hycell": false,
    "ein.tags": "worksheet-0",
    "slideshow": {
     "slide_type": "-"
    }
   },
   "outputs": [],
   "source": []
  },
  {
   "cell_type": "code",
   "execution_count": null,
   "metadata": {
    "autoscroll": false,
    "ein.hycell": false,
    "ein.tags": "worksheet-0",
    "slideshow": {
     "slide_type": "-"
    }
   },
   "outputs": [],
   "source": []
  },
  {
   "cell_type": "markdown",
   "metadata": {
    "ein.tags": "worksheet-0",
    "slideshow": {
     "slide_type": "-"
    }
   },
   "source": [
    "Sin embargo, en general $\\Mat{GH}\\ne\\Mat{HG}$. Por ejemplo:"
   ]
  },
  {
   "cell_type": "code",
   "execution_count": 20,
   "metadata": {
    "autoscroll": false,
    "ein.hycell": false,
    "ein.tags": "worksheet-0",
    "slideshow": {
     "slide_type": "-"
    }
   },
   "outputs": [
    {
     "data": {
      "text/html": [
       "<p style=\"text-align:center;\">$\\left[ \\begin{array}{ccc}48&3&-12\\\\62&7&-3\\\\40&5&0\\\\ \\end{array} \\right]$</p>"
      ],
      "text/plain": [
       "Matrix([Vector([48, 62, 40]), Vector([3, 7, 5]), Vector([-12, -3, 0])])"
      ]
     },
     "execution_count": 20,
     "metadata": {},
     "output_type": "execute_result"
    }
   ],
   "source": [
    "G=Matrix([Vector([7, 8, 5]), Vector([-3, -2, -1]), Vector([2, 3, 2])])\n",
    "H=Matrix([Vector([6, 2, 6]), Vector([1, 2, 1]), Vector([1, 7, 1])])\n",
    "G*H"
   ]
  },
  {
   "cell_type": "code",
   "execution_count": 21,
   "metadata": {
    "autoscroll": false,
    "ein.hycell": false,
    "ein.tags": "worksheet-0",
    "slideshow": {
     "slide_type": "-"
    }
   },
   "outputs": [
    {
     "data": {
      "text/html": [
       "<p style=\"text-align:center;\">$\\left[ \\begin{array}{ccc}55&-21&17\\\\65&-17&24\\\\55&-21&17\\\\ \\end{array} \\right]$</p>"
      ],
      "text/plain": [
       "Matrix([Vector([55, 65, 55]), Vector([-21, -17, -21]), Vector([17, 24, 17])])"
      ]
     },
     "execution_count": 21,
     "metadata": {},
     "output_type": "execute_result"
    }
   ],
   "source": [
    "H*G"
   ]
  },
  {
   "cell_type": "markdown",
   "metadata": {
    "ein.tags": "worksheet-0",
    "slideshow": {
     "slide_type": "-"
    }
   },
   "source": [
    "# Otras formas de calcular el producto de matrices\n",
    "\n",
    "Verifique que la componente $i,j$ del $\\Mat{GH}$ es igual al producto punto de la fila $i$-ésima de $\\Mat{G}$ por la columna $j$-ésima de $\\Mat{H}$ "
   ]
  },
  {
   "cell_type": "code",
   "execution_count": 22,
   "metadata": {
    "autoscroll": false,
    "ein.hycell": false,
    "ein.tags": "worksheet-0",
    "slideshow": {
     "slide_type": "-"
    }
   },
   "outputs": [
    {
     "data": {
      "text/plain": [
       "40"
      ]
     },
     "execution_count": 22,
     "metadata": {},
     "output_type": "execute_result"
    }
   ],
   "source": [
    "3|(G*H)|1"
   ]
  },
  {
   "cell_type": "code",
   "execution_count": 23,
   "metadata": {
    "autoscroll": false,
    "ein.hycell": false,
    "ein.tags": "worksheet-0",
    "slideshow": {
     "slide_type": "-"
    }
   },
   "outputs": [
    {
     "data": {
      "text/plain": [
       "40"
      ]
     },
     "execution_count": 23,
     "metadata": {},
     "output_type": "execute_result"
    }
   ],
   "source": [
    "(3|G)*(H|1)"
   ]
  },
  {
   "cell_type": "markdown",
   "metadata": {
    "ein.tags": "worksheet-0",
    "slideshow": {
     "slide_type": "-"
    }
   },
   "source": [
    "¿Son necesarios los paréntesis en las expresiones anteriores?"
   ]
  },
  {
   "cell_type": "markdown",
   "metadata": {
    "ein.tags": "worksheet-0",
    "slideshow": {
     "slide_type": "-"
    }
   },
   "source": [
    "Verifique que la fila $i$-ésima del producto $\\Mat{GH}$ es igual al\n",
    "producto punto de la fila $i$-ésima de $\\Mat{G}$ por la matriz\n",
    "$\\Mat{H}$"
   ]
  },
  {
   "cell_type": "code",
   "execution_count": 24,
   "metadata": {
    "autoscroll": false,
    "ein.hycell": false,
    "ein.tags": "worksheet-0",
    "slideshow": {
     "slide_type": "-"
    }
   },
   "outputs": [
    {
     "data": {
      "text/html": [
       "<p style=\"text-align:center;\">$\\begin{pmatrix}62,&7,&-3,\\end{pmatrix}$</p>"
      ],
      "text/plain": [
       "Vector([62, 7, -3])"
      ]
     },
     "execution_count": 24,
     "metadata": {},
     "output_type": "execute_result"
    }
   ],
   "source": [
    "2|(G*H)"
   ]
  },
  {
   "cell_type": "code",
   "execution_count": 25,
   "metadata": {
    "autoscroll": false,
    "ein.hycell": false,
    "ein.tags": "worksheet-0",
    "slideshow": {
     "slide_type": "-"
    }
   },
   "outputs": [
    {
     "data": {
      "text/html": [
       "<p style=\"text-align:center;\">$\\begin{pmatrix}62,&7,&-3,\\end{pmatrix}$</p>"
      ],
      "text/plain": [
       "Vector([62, 7, -3])"
      ]
     },
     "execution_count": 25,
     "metadata": {},
     "output_type": "execute_result"
    }
   ],
   "source": [
    "(2|G)*H"
   ]
  },
  {
   "cell_type": "markdown",
   "metadata": {
    "ein.tags": "worksheet-0",
    "slideshow": {
     "slide_type": "-"
    }
   },
   "source": [
    "¿Cómo se denomina esta propiedad en la que podemos desplazar los\n",
    "paréntesis?... y entonces ¿es necesario escribirlos?"
   ]
  },
  {
   "cell_type": "markdown",
   "metadata": {
    "ein.tags": "worksheet-0",
    "slideshow": {
     "slide_type": "-"
    }
   },
   "source": [
    "# Transpuesta de un producto de matrices\n",
    "\n",
    "Verifique que\n",
    "$$\n",
    "(\\Mat{A}\\Mat{C})^\\T=\\MatT{C}\\MatT{A}\n",
    "$$"
   ]
  },
  {
   "cell_type": "code",
   "execution_count": 26,
   "metadata": {
    "autoscroll": false,
    "ein.hycell": false,
    "ein.tags": "worksheet-0",
    "slideshow": {
     "slide_type": "-"
    }
   },
   "outputs": [
    {
     "data": {
      "text/html": [
       "<p style=\"text-align:center;\">$\\left[ \\begin{array}{ccc}3&1&3\\\\-1&3&-1\\\\1&2&1\\\\ \\end{array} \\right]$</p>"
      ],
      "text/plain": [
       "Matrix([Vector([3, -1, 1]), Vector([1, 3, 2]), Vector([3, -1, 1])])"
      ]
     },
     "execution_count": 26,
     "metadata": {},
     "output_type": "execute_result"
    }
   ],
   "source": [
    "~(A*C)"
   ]
  },
  {
   "cell_type": "code",
   "execution_count": 27,
   "metadata": {
    "autoscroll": false,
    "ein.hycell": false,
    "ein.tags": "worksheet-0",
    "slideshow": {
     "slide_type": "-"
    }
   },
   "outputs": [
    {
     "data": {
      "text/html": [
       "<p style=\"text-align:center;\">$\\left[ \\begin{array}{ccc}3&1&3\\\\-1&3&-1\\\\1&2&1\\\\ \\end{array} \\right]$</p>"
      ],
      "text/plain": [
       "Matrix([Vector([3, -1, 1]), Vector([1, 3, 2]), Vector([3, -1, 1])])"
      ]
     },
     "execution_count": 27,
     "metadata": {},
     "output_type": "execute_result"
    }
   ],
   "source": [
    "(~C)*(~A)"
   ]
  },
  {
   "cell_type": "code",
   "execution_count": 28,
   "metadata": {},
   "outputs": [],
   "source": [
    "from nacal import *"
   ]
  },
  {
   "cell_type": "markdown",
   "metadata": {
    "ein.tags": "worksheet-0",
    "slideshow": {
     "slide_type": "-"
    }
   },
   "source": [
    "# Particionado de una matriz\n",
    "\n",
    "Una matriz particionada muestra con líneas verticales y/o horizontales\n",
    "una partición de en bloques (o submatrices).\n",
    "\n",
    "Con un conjunto de índices y el operador selector generamos una matriz\n",
    "particionada. Por ejemplo, si definimos  la matriz"
   ]
  },
  {
   "cell_type": "code",
   "execution_count": 29,
   "metadata": {
    "autoscroll": false,
    "ein.hycell": false,
    "ein.tags": "worksheet-0",
    "slideshow": {
     "slide_type": "-"
    }
   },
   "outputs": [],
   "source": [
    "x=Vector([1,1,1,3,3])\n",
    "y=Vector([2,2,2,4,4])\n",
    "B=Matrix([x,x,x,x,y,y])"
   ]
  },
  {
   "cell_type": "markdown",
   "metadata": {
    "ein.tags": "worksheet-0",
    "slideshow": {
     "slide_type": "-"
    }
   },
   "source": [
    "Vamos a particionar por debajo de la fila 3 y a la derecha de la columna 4:"
   ]
  },
  {
   "cell_type": "code",
   "execution_count": 30,
   "metadata": {
    "autoscroll": false,
    "ein.hycell": false,
    "ein.tags": "worksheet-0",
    "slideshow": {
     "slide_type": "-"
    }
   },
   "outputs": [
    {
     "data": {
      "text/html": [
       "<p style=\"text-align:center;\">$\\,\\,\\,\\left[\\!\\!\\!\\!\\!\\left[\\,\\begin{array}{cccc|cc}1&1&1&1&2&2\\\\1&1&1&1&2&2\\\\1&1&1&1&2&2\\\\ \\hline 3&3&3&3&4&4\\\\3&3&3&3&4&4\\\\\\end{array}\\,\\right]\\!\\!\\!\\!\\!\\right]\\,\\,\\,$</p>"
      ],
      "text/plain": [
       "BlockM([SisMat([Matrix([Vector([1, 1, 1]), Vector([1, 1, 1]), Vector([1, 1, 1]), Vector([1, 1, 1])]), Matrix([Vector([3, 3]), Vector([3, 3]), Vector([3, 3]), Vector([3, 3])])]), SisMat([Matrix([Vector([2, 2, 2]), Vector([2, 2, 2])]), Matrix([Vector([4, 4]), Vector([4, 4])])])])"
      ]
     },
     "execution_count": 30,
     "metadata": {},
     "output_type": "execute_result"
    }
   ],
   "source": [
    "{3}|B|{4}"
   ]
  },
  {
   "cell_type": "markdown",
   "metadata": {
    "ein.tags": "worksheet-0",
    "slideshow": {
     "slide_type": "-"
    }
   },
   "source": [
    "Y ahora a la derecha de las columnas 1 y 4"
   ]
  },
  {
   "cell_type": "code",
   "execution_count": 31,
   "metadata": {
    "autoscroll": false,
    "ein.hycell": false,
    "ein.tags": "worksheet-0",
    "slideshow": {
     "slide_type": "-"
    }
   },
   "outputs": [
    {
     "data": {
      "text/html": [
       "<p style=\"text-align:center;\">$\\,\\,\\,\\left[\\!\\!\\!\\!\\!\\left[\\,\\begin{array}{c|ccc|cc}1&1&1&1&2&2\\\\1&1&1&1&2&2\\\\1&1&1&1&2&2\\\\3&3&3&3&4&4\\\\3&3&3&3&4&4\\\\\\end{array}\\,\\right]\\!\\!\\!\\!\\!\\right]\\,\\,\\,$</p>"
      ],
      "text/plain": [
       "BlockM([SisMat([Matrix([Vector([1, 1, 1, 3, 3])])]), SisMat([Matrix([Vector([1, 1, 1, 3, 3]), Vector([1, 1, 1, 3, 3]), Vector([1, 1, 1, 3, 3])])]), SisMat([Matrix([Vector([2, 2, 2, 4, 4]), Vector([2, 2, 2, 4, 4])])])])"
      ]
     },
     "execution_count": 31,
     "metadata": {},
     "output_type": "execute_result"
    }
   ],
   "source": [
    "B|{1,4}"
   ]
  },
  {
   "cell_type": "code",
   "execution_count": 32,
   "metadata": {},
   "outputs": [
    {
     "data": {
      "text/html": [
       "<p style=\"text-align:center;\">$\\left(\\!\\!\\!\\!\\left(\\begin{array}{ccc}1&1&1\\\\1&1&1\\\\1&1&1\\\\ \\hline\\hline3&3&3\\\\3&3&3\\\\\\end{array}\\right)\\!\\!\\!\\!\\right)$</p>"
      ],
      "text/plain": [
       "SisMat([Matrix([Vector([1, 1, 1]), Vector([1, 1, 1]), Vector([1, 1, 1])]), Matrix([Vector([3, 3]), Vector([3, 3]), Vector([3, 3])])])"
      ]
     },
     "execution_count": 32,
     "metadata": {},
     "output_type": "execute_result"
    }
   ],
   "source": [
    "({3}|B|{1,4})|2"
   ]
  },
  {
   "cell_type": "markdown",
   "metadata": {
    "ein.tags": "worksheet-0",
    "slideshow": {
     "slide_type": "-"
    }
   },
   "source": [
    "\n",
    "---- FIN DE LA LECCIÓN -----\n",
    "\n",
    "\n",
    "\n",
    "Lo que sigue es sólo para crear un índice de contenidos de este notebook (y se muestra al principio de la página)"
   ]
  },
  {
   "cell_type": "code",
   "execution_count": 33,
   "metadata": {
    "autoscroll": false,
    "ein.hycell": false,
    "ein.tags": "worksheet-0",
    "slideshow": {
     "slide_type": "-"
    }
   },
   "outputs": [
    {
     "data": {
      "application/javascript": [
       "$.getScript('https://kmahelona.github.io/ipython_notebook_goodies/ipython_notebook_toc.js')\n",
       "$.getScript('https://kmahelona.github.io/ipython_notebook_goodies/ipython_notebook_toc.js')\n"
      ],
      "text/plain": [
       "<IPython.core.display.Javascript object>"
      ]
     },
     "metadata": {},
     "output_type": "display_data"
    }
   ],
   "source": [
    "%%javascript\n",
    "$.getScript('https://kmahelona.github.io/ipython_notebook_goodies/ipython_notebook_toc.js')\n",
    "$.getScript('https://kmahelona.github.io/ipython_notebook_goodies/ipython_notebook_toc.js')"
   ]
  }
 ],
 "metadata": {
  "kernelspec": {
   "display_name": "Python 3",
   "language": "python",
   "name": "python3"
  },
  "language_info": {
   "codemirror_mode": {
    "name": "ipython",
    "version": 3
   },
   "file_extension": ".py",
   "mimetype": "text/x-python",
   "name": "python",
   "nbconvert_exporter": "python",
   "pygments_lexer": "ipython3",
   "version": "3.9.2"
  },
  "name": "Leccion03.ipynb"
 },
 "nbformat": 4,
 "nbformat_minor": 2
}
